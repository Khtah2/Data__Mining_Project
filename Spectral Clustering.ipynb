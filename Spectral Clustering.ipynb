{
 "cells": [
  {
   "cell_type": "code",
   "execution_count": 5,
   "metadata": {},
   "outputs": [],
   "source": [
    "import pandas as pd\n",
    "from sklearn.cluster import SpectralClustering\n",
    "from sklearn.preprocessing import StandardScaler\n",
    "import numpy as np\n",
    "from matplotlib import pyplot as plt\n",
    "%matplotlib inline"
   ]
  },
  {
   "cell_type": "code",
   "execution_count": 19,
   "metadata": {},
   "outputs": [],
   "source": [
    "data=pd.read_csv(\"D:\\examples\\pes2021-all-players_modified.csv\")"
   ]
  },
  {
   "cell_type": "code",
   "execution_count": 20,
   "metadata": {},
   "outputs": [
    {
     "data": {
      "text/html": [
       "<div>\n",
       "<style scoped>\n",
       "    .dataframe tbody tr th:only-of-type {\n",
       "        vertical-align: middle;\n",
       "    }\n",
       "\n",
       "    .dataframe tbody tr th {\n",
       "        vertical-align: top;\n",
       "    }\n",
       "\n",
       "    .dataframe thead th {\n",
       "        text-align: right;\n",
       "    }\n",
       "</style>\n",
       "<table border=\"1\" class=\"dataframe\">\n",
       "  <thead>\n",
       "    <tr style=\"text-align: right;\">\n",
       "      <th></th>\n",
       "      <th>name</th>\n",
       "      <th>shirt_number</th>\n",
       "      <th>team_name</th>\n",
       "      <th>league</th>\n",
       "      <th>nationality</th>\n",
       "      <th>region</th>\n",
       "      <th>height</th>\n",
       "      <th>weight</th>\n",
       "      <th>age</th>\n",
       "      <th>foot</th>\n",
       "      <th>...</th>\n",
       "      <th>skill_super_sub</th>\n",
       "      <th>com_playing_style_trickster</th>\n",
       "      <th>com_playing_style_mazing_run</th>\n",
       "      <th>com_playing_style_speeding_bullet</th>\n",
       "      <th>com_playing_style_incisive_run</th>\n",
       "      <th>com_playing_style_early_cross</th>\n",
       "      <th>com_playing_style_long_ball_expert</th>\n",
       "      <th>com_playing_style_long_ranger</th>\n",
       "      <th>ball_color</th>\n",
       "      <th>rating_stars</th>\n",
       "    </tr>\n",
       "  </thead>\n",
       "  <tbody>\n",
       "    <tr>\n",
       "      <th>0</th>\n",
       "      <td>L. MESSI</td>\n",
       "      <td>10</td>\n",
       "      <td>FC BARCELONA</td>\n",
       "      <td>Spanish League</td>\n",
       "      <td>ARGENTINA</td>\n",
       "      <td>South America</td>\n",
       "      <td>170</td>\n",
       "      <td>72</td>\n",
       "      <td>33</td>\n",
       "      <td>Left foot</td>\n",
       "      <td>...</td>\n",
       "      <td>0</td>\n",
       "      <td>1</td>\n",
       "      <td>1</td>\n",
       "      <td>1</td>\n",
       "      <td>1</td>\n",
       "      <td>1</td>\n",
       "      <td>0</td>\n",
       "      <td>0</td>\n",
       "      <td>black</td>\n",
       "      <td>5</td>\n",
       "    </tr>\n",
       "    <tr>\n",
       "      <th>1</th>\n",
       "      <td>C. RONALDO</td>\n",
       "      <td>7</td>\n",
       "      <td>JUVENTUS</td>\n",
       "      <td>Serie A TIM</td>\n",
       "      <td>PORTUGAL</td>\n",
       "      <td>Europe</td>\n",
       "      <td>187</td>\n",
       "      <td>83</td>\n",
       "      <td>35</td>\n",
       "      <td>Right foot</td>\n",
       "      <td>...</td>\n",
       "      <td>0</td>\n",
       "      <td>1</td>\n",
       "      <td>1</td>\n",
       "      <td>1</td>\n",
       "      <td>1</td>\n",
       "      <td>0</td>\n",
       "      <td>0</td>\n",
       "      <td>1</td>\n",
       "      <td>black</td>\n",
       "      <td>5</td>\n",
       "    </tr>\n",
       "    <tr>\n",
       "      <th>2</th>\n",
       "      <td>R. LEWANDOWSKI</td>\n",
       "      <td>9</td>\n",
       "      <td>FC BAYERN MÜNCHEN</td>\n",
       "      <td>Other European Leagues</td>\n",
       "      <td>POLAND</td>\n",
       "      <td>Europe</td>\n",
       "      <td>185</td>\n",
       "      <td>79</td>\n",
       "      <td>32</td>\n",
       "      <td>Right foot</td>\n",
       "      <td>...</td>\n",
       "      <td>0</td>\n",
       "      <td>0</td>\n",
       "      <td>0</td>\n",
       "      <td>0</td>\n",
       "      <td>1</td>\n",
       "      <td>0</td>\n",
       "      <td>0</td>\n",
       "      <td>0</td>\n",
       "      <td>black</td>\n",
       "      <td>5</td>\n",
       "    </tr>\n",
       "    <tr>\n",
       "      <th>3</th>\n",
       "      <td>NEYMAR</td>\n",
       "      <td>10</td>\n",
       "      <td>PSG</td>\n",
       "      <td>Ligue 1 Uber Eats</td>\n",
       "      <td>BRAZIL</td>\n",
       "      <td>South America</td>\n",
       "      <td>175</td>\n",
       "      <td>68</td>\n",
       "      <td>28</td>\n",
       "      <td>Right foot</td>\n",
       "      <td>...</td>\n",
       "      <td>0</td>\n",
       "      <td>1</td>\n",
       "      <td>1</td>\n",
       "      <td>1</td>\n",
       "      <td>1</td>\n",
       "      <td>0</td>\n",
       "      <td>0</td>\n",
       "      <td>0</td>\n",
       "      <td>black</td>\n",
       "      <td>5</td>\n",
       "    </tr>\n",
       "    <tr>\n",
       "      <th>4</th>\n",
       "      <td>K. DE BRUYNE</td>\n",
       "      <td>17</td>\n",
       "      <td>MANCHESTER B</td>\n",
       "      <td>English League</td>\n",
       "      <td>BELGIUM</td>\n",
       "      <td>Europe</td>\n",
       "      <td>181</td>\n",
       "      <td>68</td>\n",
       "      <td>29</td>\n",
       "      <td>Right foot</td>\n",
       "      <td>...</td>\n",
       "      <td>0</td>\n",
       "      <td>0</td>\n",
       "      <td>1</td>\n",
       "      <td>0</td>\n",
       "      <td>0</td>\n",
       "      <td>1</td>\n",
       "      <td>1</td>\n",
       "      <td>1</td>\n",
       "      <td>black</td>\n",
       "      <td>5</td>\n",
       "    </tr>\n",
       "  </tbody>\n",
       "</table>\n",
       "<p>5 rows × 120 columns</p>\n",
       "</div>"
      ],
      "text/plain": [
       "             name shirt_number          team_name                  league  \\\n",
       "0        L. MESSI           10       FC BARCELONA          Spanish League   \n",
       "1      C. RONALDO            7           JUVENTUS             Serie A TIM   \n",
       "2  R. LEWANDOWSKI            9  FC BAYERN MÜNCHEN  Other European Leagues   \n",
       "3          NEYMAR           10                PSG       Ligue 1 Uber Eats   \n",
       "4    K. DE BRUYNE           17       MANCHESTER B          English League   \n",
       "\n",
       "  nationality         region  height  weight  age        foot  ...  \\\n",
       "0   ARGENTINA  South America     170      72   33   Left foot  ...   \n",
       "1    PORTUGAL         Europe     187      83   35  Right foot  ...   \n",
       "2      POLAND         Europe     185      79   32  Right foot  ...   \n",
       "3      BRAZIL  South America     175      68   28  Right foot  ...   \n",
       "4     BELGIUM         Europe     181      68   29  Right foot  ...   \n",
       "\n",
       "  skill_super_sub com_playing_style_trickster  com_playing_style_mazing_run  \\\n",
       "0               0                           1                             1   \n",
       "1               0                           1                             1   \n",
       "2               0                           0                             0   \n",
       "3               0                           1                             1   \n",
       "4               0                           0                             1   \n",
       "\n",
       "   com_playing_style_speeding_bullet  com_playing_style_incisive_run  \\\n",
       "0                                  1                               1   \n",
       "1                                  1                               1   \n",
       "2                                  0                               1   \n",
       "3                                  1                               1   \n",
       "4                                  0                               0   \n",
       "\n",
       "   com_playing_style_early_cross  com_playing_style_long_ball_expert  \\\n",
       "0                              1                                   0   \n",
       "1                              0                                   0   \n",
       "2                              0                                   0   \n",
       "3                              0                                   0   \n",
       "4                              1                                   1   \n",
       "\n",
       "   com_playing_style_long_ranger  ball_color  rating_stars  \n",
       "0                              0       black             5  \n",
       "1                              1       black             5  \n",
       "2                              0       black             5  \n",
       "3                              0       black             5  \n",
       "4                              1       black             5  \n",
       "\n",
       "[5 rows x 120 columns]"
      ]
     },
     "execution_count": 20,
     "metadata": {},
     "output_type": "execute_result"
    }
   ],
   "source": [
    "data.head()"
   ]
  },
  {
   "cell_type": "code",
   "execution_count": 21,
   "metadata": {},
   "outputs": [],
   "source": [
    "data.loc[:,['name','defensive_awareness','finishing']].to_csv('D:\\examples\\pes2021-all-players_modified_KMeans.csv')\n",
    "my_data=pd.read_csv(\"D:\\examples\\pes2021-all-players_modified_KMeans.csv\")"
   ]
  },
  {
   "cell_type": "code",
   "execution_count": 22,
   "metadata": {},
   "outputs": [
    {
     "data": {
      "text/html": [
       "<div>\n",
       "<style scoped>\n",
       "    .dataframe tbody tr th:only-of-type {\n",
       "        vertical-align: middle;\n",
       "    }\n",
       "\n",
       "    .dataframe tbody tr th {\n",
       "        vertical-align: top;\n",
       "    }\n",
       "\n",
       "    .dataframe thead th {\n",
       "        text-align: right;\n",
       "    }\n",
       "</style>\n",
       "<table border=\"1\" class=\"dataframe\">\n",
       "  <thead>\n",
       "    <tr style=\"text-align: right;\">\n",
       "      <th></th>\n",
       "      <th>Unnamed: 0</th>\n",
       "      <th>name</th>\n",
       "      <th>defensive_awareness</th>\n",
       "      <th>finishing</th>\n",
       "    </tr>\n",
       "  </thead>\n",
       "  <tbody>\n",
       "    <tr>\n",
       "      <th>0</th>\n",
       "      <td>0</td>\n",
       "      <td>L. MESSI</td>\n",
       "      <td>45</td>\n",
       "      <td>95</td>\n",
       "    </tr>\n",
       "    <tr>\n",
       "      <th>1</th>\n",
       "      <td>1</td>\n",
       "      <td>C. RONALDO</td>\n",
       "      <td>50</td>\n",
       "      <td>91</td>\n",
       "    </tr>\n",
       "    <tr>\n",
       "      <th>2</th>\n",
       "      <td>2</td>\n",
       "      <td>R. LEWANDOWSKI</td>\n",
       "      <td>50</td>\n",
       "      <td>92</td>\n",
       "    </tr>\n",
       "    <tr>\n",
       "      <th>3</th>\n",
       "      <td>3</td>\n",
       "      <td>NEYMAR</td>\n",
       "      <td>45</td>\n",
       "      <td>87</td>\n",
       "    </tr>\n",
       "    <tr>\n",
       "      <th>4</th>\n",
       "      <td>4</td>\n",
       "      <td>K. DE BRUYNE</td>\n",
       "      <td>66</td>\n",
       "      <td>83</td>\n",
       "    </tr>\n",
       "  </tbody>\n",
       "</table>\n",
       "</div>"
      ],
      "text/plain": [
       "   Unnamed: 0            name  defensive_awareness  finishing\n",
       "0           0        L. MESSI                   45         95\n",
       "1           1      C. RONALDO                   50         91\n",
       "2           2  R. LEWANDOWSKI                   50         92\n",
       "3           3          NEYMAR                   45         87\n",
       "4           4    K. DE BRUYNE                   66         83"
      ]
     },
     "execution_count": 22,
     "metadata": {},
     "output_type": "execute_result"
    }
   ],
   "source": [
    "my_data.head()"
   ]
  },
  {
   "cell_type": "code",
   "execution_count": 23,
   "metadata": {},
   "outputs": [],
   "source": [
    "my_data=my_data.drop('Unnamed: 0', axis=1)"
   ]
  },
  {
   "cell_type": "code",
   "execution_count": 24,
   "metadata": {},
   "outputs": [
    {
     "data": {
      "text/html": [
       "<div>\n",
       "<style scoped>\n",
       "    .dataframe tbody tr th:only-of-type {\n",
       "        vertical-align: middle;\n",
       "    }\n",
       "\n",
       "    .dataframe tbody tr th {\n",
       "        vertical-align: top;\n",
       "    }\n",
       "\n",
       "    .dataframe thead th {\n",
       "        text-align: right;\n",
       "    }\n",
       "</style>\n",
       "<table border=\"1\" class=\"dataframe\">\n",
       "  <thead>\n",
       "    <tr style=\"text-align: right;\">\n",
       "      <th></th>\n",
       "      <th>name</th>\n",
       "      <th>defensive_awareness</th>\n",
       "      <th>finishing</th>\n",
       "    </tr>\n",
       "  </thead>\n",
       "  <tbody>\n",
       "    <tr>\n",
       "      <th>0</th>\n",
       "      <td>L. MESSI</td>\n",
       "      <td>45</td>\n",
       "      <td>95</td>\n",
       "    </tr>\n",
       "    <tr>\n",
       "      <th>1</th>\n",
       "      <td>C. RONALDO</td>\n",
       "      <td>50</td>\n",
       "      <td>91</td>\n",
       "    </tr>\n",
       "    <tr>\n",
       "      <th>2</th>\n",
       "      <td>R. LEWANDOWSKI</td>\n",
       "      <td>50</td>\n",
       "      <td>92</td>\n",
       "    </tr>\n",
       "    <tr>\n",
       "      <th>3</th>\n",
       "      <td>NEYMAR</td>\n",
       "      <td>45</td>\n",
       "      <td>87</td>\n",
       "    </tr>\n",
       "    <tr>\n",
       "      <th>4</th>\n",
       "      <td>K. DE BRUYNE</td>\n",
       "      <td>66</td>\n",
       "      <td>83</td>\n",
       "    </tr>\n",
       "  </tbody>\n",
       "</table>\n",
       "</div>"
      ],
      "text/plain": [
       "             name  defensive_awareness  finishing\n",
       "0        L. MESSI                   45         95\n",
       "1      C. RONALDO                   50         91\n",
       "2  R. LEWANDOWSKI                   50         92\n",
       "3          NEYMAR                   45         87\n",
       "4    K. DE BRUYNE                   66         83"
      ]
     },
     "execution_count": 24,
     "metadata": {},
     "output_type": "execute_result"
    }
   ],
   "source": [
    "my_data.head()"
   ]
  },
  {
   "cell_type": "code",
   "execution_count": 26,
   "metadata": {},
   "outputs": [
    {
     "data": {
      "text/plain": [
       "Text(0, 0.5, 'Finishing')"
      ]
     },
     "execution_count": 26,
     "metadata": {},
     "output_type": "execute_result"
    },
    {
     "data": {
      "image/png": "[encoded data removed]",
      "text/plain": [
       "<Figure size 432x288 with 1 Axes>"
      ]
     },
     "metadata": {
      "needs_background": "light"
     },
     "output_type": "display_data"
    }
   ],
   "source": [
    "plt.scatter(my_data.defensive_awareness,my_data.finishing)\n",
    "plt.xlabel('Defensive Awareness')\n",
    "plt.ylabel('Finishing')"
   ]
  },
  {
   "cell_type": "code",
   "execution_count": 27,
   "metadata": {},
   "outputs": [
    {
     "data": {
      "text/plain": [
       "array([1, 1, 1, ..., 1, 1, 1])"
      ]
     },
     "execution_count": 27,
     "metadata": {},
     "output_type": "execute_result"
    }
   ],
   "source": [
    "n_clusters = 4\n",
    "spectral = SpectralClustering(n_clusters=n_clusters, affinity='nearest_neighbors', random_state=0)\n",
    "y_predicted = spectral.fit_predict(my_data[['defensive_awareness','finishing']])\n",
    "y_predicted"
   ]
  },
  {
   "cell_type": "code",
   "execution_count": 28,
   "metadata": {},
   "outputs": [
    {
     "data": {
      "text/html": [
       "<div>\n",
       "<style scoped>\n",
       "    .dataframe tbody tr th:only-of-type {\n",
       "        vertical-align: middle;\n",
       "    }\n",
       "\n",
       "    .dataframe tbody tr th {\n",
       "        vertical-align: top;\n",
       "    }\n",
       "\n",
       "    .dataframe thead th {\n",
       "        text-align: right;\n",
       "    }\n",
       "</style>\n",
       "<table border=\"1\" class=\"dataframe\">\n",
       "  <thead>\n",
       "    <tr style=\"text-align: right;\">\n",
       "      <th></th>\n",
       "      <th>name</th>\n",
       "      <th>defensive_awareness</th>\n",
       "      <th>finishing</th>\n",
       "      <th>cluster</th>\n",
       "    </tr>\n",
       "  </thead>\n",
       "  <tbody>\n",
       "    <tr>\n",
       "      <th>0</th>\n",
       "      <td>L. MESSI</td>\n",
       "      <td>45</td>\n",
       "      <td>95</td>\n",
       "      <td>1</td>\n",
       "    </tr>\n",
       "    <tr>\n",
       "      <th>1</th>\n",
       "      <td>C. RONALDO</td>\n",
       "      <td>50</td>\n",
       "      <td>91</td>\n",
       "      <td>1</td>\n",
       "    </tr>\n",
       "    <tr>\n",
       "      <th>2</th>\n",
       "      <td>R. LEWANDOWSKI</td>\n",
       "      <td>50</td>\n",
       "      <td>92</td>\n",
       "      <td>1</td>\n",
       "    </tr>\n",
       "    <tr>\n",
       "      <th>3</th>\n",
       "      <td>NEYMAR</td>\n",
       "      <td>45</td>\n",
       "      <td>87</td>\n",
       "      <td>1</td>\n",
       "    </tr>\n",
       "    <tr>\n",
       "      <th>4</th>\n",
       "      <td>K. DE BRUYNE</td>\n",
       "      <td>66</td>\n",
       "      <td>83</td>\n",
       "      <td>1</td>\n",
       "    </tr>\n",
       "  </tbody>\n",
       "</table>\n",
       "</div>"
      ],
      "text/plain": [
       "             name  defensive_awareness  finishing  cluster\n",
       "0        L. MESSI                   45         95        1\n",
       "1      C. RONALDO                   50         91        1\n",
       "2  R. LEWANDOWSKI                   50         92        1\n",
       "3          NEYMAR                   45         87        1\n",
       "4    K. DE BRUYNE                   66         83        1"
      ]
     },
     "execution_count": 28,
     "metadata": {},
     "output_type": "execute_result"
    }
   ],
   "source": [
    "my_data['cluster']=y_predicted\n",
    "my_data.head()"
   ]
  },
  {
   "cell_type": "code",
   "execution_count": 30,
   "metadata": {},
   "outputs": [
    {
     "name": "stderr",
     "output_type": "stream",
     "text": [
      "No handles with labels found to put in legend.\n"
     ]
    },
    {
     "data": {
      "text/plain": [
       "<matplotlib.legend.Legend at 0x1fb2e0bdd30>"
      ]
     },
     "execution_count": 30,
     "metadata": {},
     "output_type": "execute_result"
    },
    {
     "data": {
      "image/png": "[encoded data removed]",
      "text/plain": [
       "<Figure size 432x288 with 1 Axes>"
      ]
     },
     "metadata": {
      "needs_background": "light"
     },
     "output_type": "display_data"
    }
   ],
   "source": [
    "df1 = my_data[my_data.cluster==0]\n",
    "df2 = my_data[my_data.cluster==1]\n",
    "df3 = my_data[my_data.cluster==2]\n",
    "df4 = my_data[my_data.cluster==3]\n",
    "plt.scatter(df1.defensive_awareness,df1.finishing,color='green')\n",
    "plt.scatter(df2.defensive_awareness,df2.finishing,color='red')\n",
    "plt.scatter(df3.defensive_awareness,df3.finishing,color='black')\n",
    "plt.scatter(df4.defensive_awareness,df4.finishing,color='yellow')\n",
    "plt.xlabel('Defensive Awareness')\n",
    "plt.ylabel('Finishing')\n",
    "plt.legend()"
   ]
  },
  {
   "cell_type": "code",
   "execution_count": null,
   "metadata": {},
   "outputs": [],
   "source": []
  }
 ],
 "metadata": {
  "kernelspec": {
   "display_name": "Python 3",
   "language": "python",
   "name": "python3"
  },
  "language_info": {
   "codemirror_mode": {
    "name": "ipython",
    "version": 3
   },
   "file_extension": ".py",
   "mimetype": "text/x-python",
   "name": "python",
   "nbconvert_exporter": "python",
   "pygments_lexer": "ipython3",
   "version": "3.8.5"
  }
 },
 "nbformat": 4,
 "nbformat_minor": 2
}

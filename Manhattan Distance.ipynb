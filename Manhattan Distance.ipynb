{
 "cells": [
  {
   "cell_type": "code",
   "execution_count": 1,
   "metadata": {},
   "outputs": [],
   "source": [
    "import numpy as np\n",
    "import pandas as pd"
   ]
  },
  {
   "cell_type": "code",
   "execution_count": 2,
   "metadata": {},
   "outputs": [],
   "source": [
    "data = 'D:/examples/pes2021-all-players_modified.csv'\n",
    "\n",
    "df = pd.read_csv(data)"
   ]
  },
  {
   "cell_type": "code",
   "execution_count": 3,
   "metadata": {},
   "outputs": [],
   "source": [
    "df=df.loc[:,['name','offensive_awareness','ball_control','dribbling','tight_possession','low_pass','lofted_pass','finishing','heading','place_kicking','curl','speed','acceleration','kicking_power','jump','physical_contact','balance','stamina','defensive_awareness','ball_winning','aggression','gk_awareness','gk_catching','gk_clearing','gk_reflexes','gk_reach']]"
   ]
  },
  {
   "cell_type": "code",
   "execution_count": 4,
   "metadata": {},
   "outputs": [
    {
     "data": {
      "text/html": [
       "<div>\n",
       "<style scoped>\n",
       "    .dataframe tbody tr th:only-of-type {\n",
       "        vertical-align: middle;\n",
       "    }\n",
       "\n",
       "    .dataframe tbody tr th {\n",
       "        vertical-align: top;\n",
       "    }\n",
       "\n",
       "    .dataframe thead th {\n",
       "        text-align: right;\n",
       "    }\n",
       "</style>\n",
       "<table border=\"1\" class=\"dataframe\">\n",
       "  <thead>\n",
       "    <tr style=\"text-align: right;\">\n",
       "      <th></th>\n",
       "      <th>name</th>\n",
       "      <th>offensive_awareness</th>\n",
       "      <th>ball_control</th>\n",
       "      <th>dribbling</th>\n",
       "      <th>tight_possession</th>\n",
       "      <th>low_pass</th>\n",
       "      <th>lofted_pass</th>\n",
       "      <th>finishing</th>\n",
       "      <th>heading</th>\n",
       "      <th>place_kicking</th>\n",
       "      <th>...</th>\n",
       "      <th>balance</th>\n",
       "      <th>stamina</th>\n",
       "      <th>defensive_awareness</th>\n",
       "      <th>ball_winning</th>\n",
       "      <th>aggression</th>\n",
       "      <th>gk_awareness</th>\n",
       "      <th>gk_catching</th>\n",
       "      <th>gk_clearing</th>\n",
       "      <th>gk_reflexes</th>\n",
       "      <th>gk_reach</th>\n",
       "    </tr>\n",
       "  </thead>\n",
       "  <tbody>\n",
       "    <tr>\n",
       "      <th>0</th>\n",
       "      <td>L. MESSI</td>\n",
       "      <td>95</td>\n",
       "      <td>96</td>\n",
       "      <td>97</td>\n",
       "      <td>96</td>\n",
       "      <td>90</td>\n",
       "      <td>91</td>\n",
       "      <td>95</td>\n",
       "      <td>70</td>\n",
       "      <td>94</td>\n",
       "      <td>...</td>\n",
       "      <td>96</td>\n",
       "      <td>78</td>\n",
       "      <td>45</td>\n",
       "      <td>50</td>\n",
       "      <td>50</td>\n",
       "      <td>40</td>\n",
       "      <td>40</td>\n",
       "      <td>40</td>\n",
       "      <td>40</td>\n",
       "      <td>40</td>\n",
       "    </tr>\n",
       "    <tr>\n",
       "      <th>1</th>\n",
       "      <td>C. RONALDO</td>\n",
       "      <td>91</td>\n",
       "      <td>90</td>\n",
       "      <td>89</td>\n",
       "      <td>88</td>\n",
       "      <td>83</td>\n",
       "      <td>82</td>\n",
       "      <td>91</td>\n",
       "      <td>93</td>\n",
       "      <td>83</td>\n",
       "      <td>...</td>\n",
       "      <td>85</td>\n",
       "      <td>86</td>\n",
       "      <td>50</td>\n",
       "      <td>58</td>\n",
       "      <td>76</td>\n",
       "      <td>40</td>\n",
       "      <td>40</td>\n",
       "      <td>40</td>\n",
       "      <td>40</td>\n",
       "      <td>40</td>\n",
       "    </tr>\n",
       "    <tr>\n",
       "      <th>2</th>\n",
       "      <td>R. LEWANDOWSKI</td>\n",
       "      <td>94</td>\n",
       "      <td>91</td>\n",
       "      <td>85</td>\n",
       "      <td>82</td>\n",
       "      <td>73</td>\n",
       "      <td>68</td>\n",
       "      <td>92</td>\n",
       "      <td>88</td>\n",
       "      <td>81</td>\n",
       "      <td>...</td>\n",
       "      <td>82</td>\n",
       "      <td>79</td>\n",
       "      <td>50</td>\n",
       "      <td>51</td>\n",
       "      <td>64</td>\n",
       "      <td>40</td>\n",
       "      <td>40</td>\n",
       "      <td>40</td>\n",
       "      <td>40</td>\n",
       "      <td>40</td>\n",
       "    </tr>\n",
       "    <tr>\n",
       "      <th>3</th>\n",
       "      <td>NEYMAR</td>\n",
       "      <td>86</td>\n",
       "      <td>92</td>\n",
       "      <td>96</td>\n",
       "      <td>95</td>\n",
       "      <td>89</td>\n",
       "      <td>85</td>\n",
       "      <td>87</td>\n",
       "      <td>65</td>\n",
       "      <td>90</td>\n",
       "      <td>...</td>\n",
       "      <td>90</td>\n",
       "      <td>80</td>\n",
       "      <td>45</td>\n",
       "      <td>49</td>\n",
       "      <td>58</td>\n",
       "      <td>40</td>\n",
       "      <td>40</td>\n",
       "      <td>40</td>\n",
       "      <td>40</td>\n",
       "      <td>40</td>\n",
       "    </tr>\n",
       "    <tr>\n",
       "      <th>4</th>\n",
       "      <td>K. DE BRUYNE</td>\n",
       "      <td>86</td>\n",
       "      <td>92</td>\n",
       "      <td>88</td>\n",
       "      <td>92</td>\n",
       "      <td>96</td>\n",
       "      <td>96</td>\n",
       "      <td>83</td>\n",
       "      <td>63</td>\n",
       "      <td>83</td>\n",
       "      <td>...</td>\n",
       "      <td>78</td>\n",
       "      <td>88</td>\n",
       "      <td>66</td>\n",
       "      <td>68</td>\n",
       "      <td>72</td>\n",
       "      <td>40</td>\n",
       "      <td>40</td>\n",
       "      <td>40</td>\n",
       "      <td>40</td>\n",
       "      <td>40</td>\n",
       "    </tr>\n",
       "  </tbody>\n",
       "</table>\n",
       "<p>5 rows × 26 columns</p>\n",
       "</div>"
      ],
      "text/plain": [
       "             name  offensive_awareness  ball_control  dribbling  \\\n",
       "0        L. MESSI                   95            96         97   \n",
       "1      C. RONALDO                   91            90         89   \n",
       "2  R. LEWANDOWSKI                   94            91         85   \n",
       "3          NEYMAR                   86            92         96   \n",
       "4    K. DE BRUYNE                   86            92         88   \n",
       "\n",
       "   tight_possession  low_pass  lofted_pass  finishing  heading  place_kicking  \\\n",
       "0                96        90           91         95       70             94   \n",
       "1                88        83           82         91       93             83   \n",
       "2                82        73           68         92       88             81   \n",
       "3                95        89           85         87       65             90   \n",
       "4                92        96           96         83       63             83   \n",
       "\n",
       "   ...  balance  stamina  defensive_awareness  ball_winning  aggression  \\\n",
       "0  ...       96       78                   45            50          50   \n",
       "1  ...       85       86                   50            58          76   \n",
       "2  ...       82       79                   50            51          64   \n",
       "3  ...       90       80                   45            49          58   \n",
       "4  ...       78       88                   66            68          72   \n",
       "\n",
       "   gk_awareness  gk_catching  gk_clearing  gk_reflexes  gk_reach  \n",
       "0            40           40           40           40        40  \n",
       "1            40           40           40           40        40  \n",
       "2            40           40           40           40        40  \n",
       "3            40           40           40           40        40  \n",
       "4            40           40           40           40        40  \n",
       "\n",
       "[5 rows x 26 columns]"
      ]
     },
     "execution_count": 4,
     "metadata": {},
     "output_type": "execute_result"
    }
   ],
   "source": [
    "df.head()"
   ]
  },
  {
   "cell_type": "code",
   "execution_count": 5,
   "metadata": {},
   "outputs": [],
   "source": [
    "target_player_name=\"M. ÖZIL\""
   ]
  },
  {
   "cell_type": "code",
   "execution_count": 8,
   "metadata": {},
   "outputs": [
    {
     "data": {
      "text/plain": [
       "offensive_awareness    84\n",
       "ball_control           90\n",
       "dribbling              87\n",
       "tight_possession       84\n",
       "low_pass               88\n",
       "lofted_pass            89\n",
       "finishing              71\n",
       "heading                61\n",
       "place_kicking          77\n",
       "curl                   85\n",
       "speed                  78\n",
       "acceleration           76\n",
       "kicking_power          75\n",
       "jump                   65\n",
       "physical_contact       65\n",
       "balance                82\n",
       "stamina                75\n",
       "defensive_awareness    50\n",
       "ball_winning           50\n",
       "aggression             54\n",
       "gk_awareness           40\n",
       "gk_catching            40\n",
       "gk_clearing            40\n",
       "gk_reflexes            40\n",
       "gk_reach               40\n",
       "Name: 176, dtype: object"
      ]
     },
     "execution_count": 8,
     "metadata": {},
     "output_type": "execute_result"
    }
   ],
   "source": [
    "target_player_index = df.index[df['name'] == target_player_name].tolist()[0]\n",
    "df.iloc[target_player_index, 1:]"
   ]
  },
  {
   "cell_type": "code",
   "execution_count": 9,
   "metadata": {},
   "outputs": [],
   "source": [
    "def manhattan_distance(player1, player2):\n",
    "    return np.sum(np.abs(player1 - player2))\n",
    "distances = []\n",
    "for index, row in df.iterrows():\n",
    "    if index != target_player_index:\n",
    "        distance = manhattan_distance(df.iloc[target_player_index, 1:].values, row[1:].values)\n",
    "        distances.append((index, distance))"
   ]
  },
  {
   "cell_type": "code",
   "execution_count": 10,
   "metadata": {},
   "outputs": [],
   "source": [
    "distances.sort(key=lambda x: x[1])"
   ]
  },
  {
   "cell_type": "code",
   "execution_count": 12,
   "metadata": {},
   "outputs": [],
   "source": [
    "closest_player_index = distances[0][0]\n",
    "closest_player_name = df.iloc[closest_player_index]['name']"
   ]
  },
  {
   "cell_type": "code",
   "execution_count": 13,
   "metadata": {},
   "outputs": [
    {
     "name": "stdout",
     "output_type": "stream",
     "text": [
      "Closest point to M. ÖZIL is DAVID SILVA\n"
     ]
    }
   ],
   "source": [
    "print(\"Closest point to\", target_player_name, \"is\", closest_player_name)"
   ]
  },
  {
   "cell_type": "code",
   "execution_count": null,
   "metadata": {},
   "outputs": [],
   "source": []
  }
 ],
 "metadata": {
  "kernelspec": {
   "display_name": "Python 3",
   "language": "python",
   "name": "python3"
  },
  "language_info": {
   "codemirror_mode": {
    "name": "ipython",
    "version": 3
   },
   "file_extension": ".py",
   "mimetype": "text/x-python",
   "name": "python",
   "nbconvert_exporter": "python",
   "pygments_lexer": "ipython3",
   "version": "3.8.5"
  }
 },
 "nbformat": 4,
 "nbformat_minor": 2
}
